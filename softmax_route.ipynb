{
 "cells": [
  {
   "cell_type": "code",
   "execution_count": 1,
   "metadata": {},
   "outputs": [
    {
     "name": "stderr",
     "output_type": "stream",
     "text": [
      "Using TensorFlow backend.\n"
     ]
    }
   ],
   "source": [
    "%matplotlib inline\n",
    "\n",
    "import numpy as np\n",
    "\n",
    "import matplotlib.pyplot as plt\n",
    "\n",
    "import pandas.io.sql as psql\n",
    "import psycopg2 as pg\n",
    "\n",
    "import pandas as pd\n",
    "\n",
    "from keras.models import Sequential\n",
    "from keras.layers import Dense\n",
    "from keras.engine.saving import model_from_json\n",
    "from keras.layers import Dropout, BatchNormalization, regularizers\n",
    "from keras.optimizers import Adam, RMSprop\n",
    "\n",
    "from sklearn import model_selection\n",
    "\n",
    "from imblearn.over_sampling import SMOTE\n"
   ]
  },
  {
   "cell_type": "code",
   "execution_count": 2,
   "metadata": {},
   "outputs": [],
   "source": [
    "with pg.connect(database='chi-navi-mesh',\n",
    "                host='localhost',\n",
    "                user='postgres',\n",
    "                port=5432) as conn:\n",
    "    all_season_sql = \\\n",
    "        \"with bus_stop_flowting_population as( \" \\\n",
    "        \"    with bus_stop_mesh as( \" \\\n",
    "        \"       select \" \\\n",
    "        \"           m.keycode, bs.bus_stop_id, m.latlng_path, point(bs.latlon) as bus_stop_latlon \" \\\n",
    "        \"       from \" \\\n",
    "        \"           bus_stop bs, population p, mesh m \" \\\n",
    "        \"       where \" \\\n",
    "        \"           m.keycode = p.keycode \" \\\n",
    "        \"           and box(polygon(m.latlng_path)) @> point(bs.latlon) \" \\\n",
    "        \"   ), \" \\\n",
    "        \"   flowting_population as( \" \\\n",
    "        \"        select \" \\\n",
    "        \"           m.latlng_path as latlng, \" \\\n",
    "        \"           fp.keycode, \" \\\n",
    "        \"           fp.param ->> 'year' as year, \" \\\n",
    "        \"           fp.param ->> 'month' as month, \" \\\n",
    "        \"           fp.param ->> 'hour' as hour,\" \\\n",
    "        \"           fp.param ->> 'day_type' as day_type, \" \\\n",
    "        \"           fp.param ->> 'cnt_population' as cntPopulation \" \\\n",
    "        \"       from \" \\\n",
    "        \"           mesh m ,flowing_population fp \" \\\n",
    "        \"       where \" \\\n",
    "        \"           m.keycode = fp.keycode \" \\\n",
    "        \"   ) \" \\\n",
    "        \"   select \" \\\n",
    "        \"       b.bus_stop_id, \" \\\n",
    "        \"       f.cntpopulation, f.year, f.month, f.hour, f.day_type \" \\\n",
    "        \"   from \" \\\n",
    "        \"       flowting_population f, bus_stop_mesh b \" \\\n",
    "        \"   where \" \\\n",
    "        \"       b.keycode = f.keycode \" \\\n",
    "        \"), \" \\\n",
    "        \"spot_bus_stop as( \" \\\n",
    "        \"   select \" \\\n",
    "        \"       tmp.bus_stop_id, \" \\\n",
    "        \"       max(\" \\\n",
    "        \"           case \" \\\n",
    "        \"               when spot_id = 3 then 1 \" \\\n",
    "        \"               else 0 \" \\\n",
    "        \"           end\" \\\n",
    "        \"       ) as chitose_station, \" \\\n",
    "        \"       max(\" \\\n",
    "        \"           case \" \\\n",
    "        \"               when spot_id = 4 then 1 \" \\\n",
    "        \"               else 0 \" \\\n",
    "        \"           end\" \\\n",
    "        \"       ) as minami_chitose_station, \" \\\n",
    "        \"       max(\" \\\n",
    "        \"           case \" \\\n",
    "        \"               when spot_id = 5 then 1 \" \\\n",
    "        \"               else 0 \" \\\n",
    "        \"           end\" \\\n",
    "        \"       ) as osatu_station, \" \\\n",
    "        \"       max(\" \\\n",
    "        \"           case \" \\\n",
    "        \"               when spot_id = 6 then 1 \" \\\n",
    "        \"               else 0 \" \\\n",
    "        \"           end\" \\\n",
    "        \"       ) as chitose_airport, \" \\\n",
    "        \"       max(\" \\\n",
    "        \"           case \" \\\n",
    "        \"               when spot_id = 7 then 1 \" \\\n",
    "        \"               else 0 \" \\\n",
    "        \"           end\" \\\n",
    "        \"       ) as aeon, \" \\\n",
    "        \"       max(\" \\\n",
    "        \"           case \" \\\n",
    "        \"               when spot_id = 8 then 1 \" \\\n",
    "        \"               else 0 \" \\\n",
    "        \"           end\" \\\n",
    "        \"       ) as rera, \" \\\n",
    "        \"       max(\" \\\n",
    "        \"           case \" \\\n",
    "        \"               when spot_id = 9 then 1 \" \\\n",
    "        \"               else 0 \" \\\n",
    "        \"           end\" \\\n",
    "        \"       ) as chitose_mall, \" \\\n",
    "        \"       max(\" \\\n",
    "        \"           case \" \\\n",
    "        \"               when spot_id = 10 then 1 \" \\\n",
    "        \"               else 0 \" \\\n",
    "        \"           end\" \\\n",
    "        \"       ) as big_house, \" \\\n",
    "        \"       max(\" \\\n",
    "        \"           case \" \\\n",
    "        \"               when spot_id = 11 then 1 \" \\\n",
    "        \"               else 0 \" \\\n",
    "        \"           end\" \\\n",
    "        \"       ) as hokuren, \" \\\n",
    "        \"       max(\" \\\n",
    "        \"           case \" \\\n",
    "        \"               when spot_id = 12 then 1 \" \\\n",
    "        \"               else 0 \" \\\n",
    "        \"           end\" \\\n",
    "        \"       ) as morimoto, \" \\\n",
    "        \"       max(\" \\\n",
    "        \"           case \" \\\n",
    "        \"               when spot_id = 13 then 1 \" \\\n",
    "        \"               else 0 \" \\\n",
    "        \"           end\" \\\n",
    "        \"       ) as city_hospital, \" \\\n",
    "        \"       max(\" \\\n",
    "        \"           case \" \\\n",
    "        \"               when spot_id = 14 then 1 \" \\\n",
    "        \"               else 0 \" \\\n",
    "        \"           end\" \\\n",
    "        \"       ) as houyuukai_hospital, \" \\\n",
    "        \"       max(\" \\\n",
    "        \"           case \" \\\n",
    "        \"               when spot_id = 15 then 1 \" \\\n",
    "        \"               else 0 \" \\\n",
    "        \"           end\" \\\n",
    "        \"       ) as chitose_hospital, \" \\\n",
    "        \"       max(\" \\\n",
    "        \"           case \" \\\n",
    "        \"               when spot_id = 16 then 1 \" \\\n",
    "        \"               else 0 \" \\\n",
    "        \"           end\" \\\n",
    "        \"       ) as hokusei_hospital, \" \\\n",
    "        \"       max(\" \\\n",
    "        \"           case \" \\\n",
    "        \"               when spot_id = 17 then 1 \" \\\n",
    "        \"               else 0 \" \\\n",
    "        \"           end\" \\\n",
    "        \"       ) as city_library, \" \\\n",
    "        \"       max(\" \\\n",
    "        \"           case \" \\\n",
    "        \"               when spot_id = 18 then 1 \" \\\n",
    "        \"               else 0 \" \\\n",
    "        \"           end\" \\\n",
    "        \"       ) as city_office, \" \\\n",
    "        \"       max(\" \\\n",
    "        \"           case \" \\\n",
    "        \"               when spot_id = 19 then 1 \" \\\n",
    "        \"               else 0 \" \\\n",
    "        \"           end\" \\\n",
    "        \"       ) as kouyoudai_city_office, \" \\\n",
    "        \"       max(\" \\\n",
    "        \"           case \" \\\n",
    "        \"               when spot_id = 20 then 1 \" \\\n",
    "        \"               else 0 \" \\\n",
    "        \"           end\" \\\n",
    "        \"       ) as city_service_center, \" \\\n",
    "        \"       max(\" \\\n",
    "        \"           case \" \\\n",
    "        \"               when spot_id = 21 \" \\\n",
    "        \"               then 1 else 0 \" \\\n",
    "        \"           end\" \\\n",
    "        \"       ) as sports_center, \" \\\n",
    "        \"       max(\" \\\n",
    "        \"           case \" \\\n",
    "        \"               when spot_id = 22 \" \\\n",
    "        \"               then 1 else 0 \" \\\n",
    "        \"           end\" \\\n",
    "        \"       ) as sougou_budoukan, \" \\\n",
    "        \"       max(\" \\\n",
    "        \"           case \" \\\n",
    "        \"               when spot_id = 23 \" \\\n",
    "        \"               then 1 else 0 \" \\\n",
    "        \"           end\" \\\n",
    "        \"       ) as onsui_pool, \" \\\n",
    "        \"       max(\" \\\n",
    "        \"           case \" \\\n",
    "        \"               when spot_id = 24 \" \\\n",
    "        \"               then 1 else 0 \" \\\n",
    "        \"           end\" \\\n",
    "        \"       ) as mati_library, \" \\\n",
    "        \"       max(\" \\\n",
    "        \"           case \" \\\n",
    "        \"               when spot_id = 25 \" \\\n",
    "        \"               then 1 else 0 \" \\\n",
    "        \"           end\" \\\n",
    "        \"       ) as salmon_park, \" \\\n",
    "        \"       max(\" \\\n",
    "        \"           case \" \\\n",
    "        \"               when spot_id = 26 \" \\\n",
    "        \"               then 1 else 0 \" \\\n",
    "        \"           end\" \\\n",
    "        \"       ) as sikotu_lake, \" \\\n",
    "        \"       max(\" \\\n",
    "        \"           case \" \\\n",
    "        \"               when spot_id = 27 \" \\\n",
    "        \"               then 1 else 0 \" \\\n",
    "        \"           end\" \\\n",
    "        \"       ) as hokuyou_highschool, \" \\\n",
    "        \"       max(\" \\\n",
    "        \"           case \" \\\n",
    "        \"               when spot_id = 28 \" \\\n",
    "        \"               then 1 else 0 \" \\\n",
    "        \"           end\" \\\n",
    "        \"       ) as chitose_highschool, \" \\\n",
    "        \"       max(\" \\\n",
    "        \"           case \" \\\n",
    "        \"               when spot_id = 29 \" \\\n",
    "        \"               then 1 else 0 \" \\\n",
    "        \"           end\" \\\n",
    "        \"       ) as aoba_junior_high_school, \" \\\n",
    "        \"       max(\" \\\n",
    "        \"           case \" \\\n",
    "        \"               when spot_id = 30 \" \\\n",
    "        \"               then 1 else 0 \" \\\n",
    "        \"           end\" \\\n",
    "        \"       ) as chitose_junior_high_school, \" \\\n",
    "        \"       max(\" \\\n",
    "        \"           case \" \\\n",
    "        \"               when spot_id = 31 \" \\\n",
    "        \"               then 1 else 0 \" \\\n",
    "        \"           end\" \\\n",
    "        \"       ) as hokushin_junior_high_school, \" \\\n",
    "        \"       max(\" \\\n",
    "        \"           case \" \\\n",
    "        \"               when spot_id = 32 \" \\\n",
    "        \"               then 1 else 0 \" \\\n",
    "        \"           end\" \\\n",
    "        \"       ) as tomioka_junior_high_school, \" \\\n",
    "        \"       max(\" \\\n",
    "        \"           case \" \\\n",
    "        \"               when spot_id = 33 \" \\\n",
    "        \"               then 1 else 0 \" \\\n",
    "        \"           end\" \\\n",
    "        \"       ) as hokuto_junior_high_school, \" \\\n",
    "        \"       max(\" \\\n",
    "        \"           case \" \\\n",
    "        \"               when spot_id = 34 \" \\\n",
    "        \"               then 1 else 0 \" \\\n",
    "        \"           end\" \\\n",
    "        \"       ) as yuumai_junior_high_school, \" \\\n",
    "        \"       max(\" \\\n",
    "        \"           case \" \\\n",
    "        \"               when spot_id = 35 \" \\\n",
    "        \"               then 1 else 0 \" \\\n",
    "        \"           end\" \\\n",
    "        \"       ) as kouyoudai_junior_high_school, \" \\\n",
    "        \"       max(\" \\\n",
    "        \"           case \" \\\n",
    "        \"               when spot_id = 36 \" \\\n",
    "        \"               then 1 else 0 \" \\\n",
    "        \"           end\" \\\n",
    "        \"       ) as chitose_drivers_school, \" \\\n",
    "        \"       max(\" \\\n",
    "        \"           case \" \\\n",
    "        \"               when spot_id = 37 \" \\\n",
    "        \"               then 1 else 0 \" \\\n",
    "        \"           end\" \\\n",
    "        \"       ) as chitose_rehabilitation_school, \" \\\n",
    "        \"       max(\" \\\n",
    "        \"           case \" \\\n",
    "        \"               when spot_id = 38 \" \\\n",
    "        \"               then 1 else 0 \" \\\n",
    "        \"           end\" \\\n",
    "        \"       ) as airplane_vacational_school, \" \\\n",
    "        \"       max(\" \\\n",
    "        \"           case \" \\\n",
    "        \"               when spot_id = 39 \" \\\n",
    "        \"               then 1 else 0 \" \\\n",
    "        \"           end\" \\\n",
    "        \"       ) as north_chitose_military_post, \" \\\n",
    "        \"       max(\" \\\n",
    "        \"           case \" \\\n",
    "        \"               when spot_id = 40 \" \\\n",
    "        \"               then 1 else 0 \" \\\n",
    "        \"           end\" \\\n",
    "        \"       ) as airself_defence_force_fort, \" \\\n",
    "        \"       max(\" \\\n",
    "        \"           case \" \\\n",
    "        \"               when spot_id = 41 \" \\\n",
    "        \"               then 1 else 0 \" \\\n",
    "        \"           end\" \\\n",
    "        \"       ) as east_chitose_military_post \" \\\n",
    "        \"   from \" \\\n",
    "        \"       (select \" \\\n",
    "        \"           bus_stop_id,s.spot_id,s.area,p.latlon, \" \\\n",
    "        \"           row_number() over (partition by bus_stop_id) as seq \" \\\n",
    "        \"       from \" \\\n",
    "        \"           (select spot_id, s.area from spot s order by spot_id) as s \" \\\n",
    "        \"       left outer join \" \\\n",
    "        \"           (select bus_stop_id,latlon::point as latlon from bus_stop) as p \" \\\n",
    "        \"       on \" \\\n",
    "        \"           ST_Covers( \" \\\n",
    "        \"               ST_Buffer(ST_POINT(s.area[0], s.area[1])::geography,400), \" \\\n",
    "        \"               ST_POINT(p.latlon[1], p.latlon[0]) \" \\\n",
    "        \"           ) \" \\\n",
    "        \"       order by p.bus_stop_id, s.spot_id \" \\\n",
    "        \"       ) tmp \" \\\n",
    "        \"   group by tmp.bus_stop_id \" \\\n",
    "        \"), \" \\\n",
    "        \"delay_info as( \" \\\n",
    "        \"   with route_bus_stop_list as( \" \\\n",
    "        \"       select \" \\\n",
    "        \"           t.task_id,r.route_id,b.bus_stop_id,rbs.ordinal \" \\\n",
    "        \"       from \" \\\n",
    "        \"           bus_stop b,route r,route_bus_stop rbs,task t \" \\\n",
    "        \"       where \" \\\n",
    "        \"           b.bus_stop_id = rbs.bus_stop_id \" \\\n",
    "        \"           and r.route_id = rbs.route_id \" \\\n",
    "        \"           and t.route_id = r.route_id \" \\\n",
    "        \"       order by r.route_id,rbs.ordinal \" \\\n",
    "        \"   ), \" \\\n",
    "        \"   delay_list as( \" \\\n",
    "        \"       with stddev as( \" \\\n",
    "        \"           select \" \\\n",
    "        \"               stddev_samp(extract(epoch from (collide_at - departure_time))) as stddev \" \\\n",
    "        \"           from \" \\\n",
    "        \"               task_delay \" \\\n",
    "        \"           where \" \\\n",
    "        \"               (collide_at - departure_time) > '00:00:00' \" \\\n",
    "        \"       ), \" \\\n",
    "        \"       delay_avg as( \" \\\n",
    "        \"           select \" \\\n",
    "        \"               avg((extract(epoch from (collide_at - departure_time)))) as delay_avg \" \\\n",
    "        \"           from \" \\\n",
    "        \"               task_delay \" \\\n",
    "        \"           where \" \\\n",
    "        \"               (collide_at - departure_time) > '00:00:00' \" \\\n",
    "        \"       ) \" \\\n",
    "        \"       select \" \\\n",
    "        \"           td.task_id,td.departure_time,td.bus_stop_id,td.submit_in,td.collide_at, \" \\\n",
    "        \"           extract(epoch from (td.collide_at - td2.departure_time)) as delay \" \\\n",
    "        \"       from \" \\\n",
    "        \"           task_delay td,delay_avg da,stddev std,task_detail td2 \" \\\n",
    "        \"       where \" \\\n",
    "        \"           (extract(epoch from (td.collide_at - td2.departure_time)) between \" \\\n",
    "        \"           da.delay_avg - std.stddev * 3 and da.delay_avg + std.stddev * 3) \" \\\n",
    "        \"           and extract(epoch from (td.collide_at - td2.departure_time)) > 0 \" \\\n",
    "        \"           and td.task_id = td2.task_id \" \\\n",
    "        \"           and td.bus_stop_id = td2.bus_stop_id \" \\\n",
    "        \"           and td.departure_time = td2.departure_time \" \\\n",
    "        \"   ) \" \\\n",
    "        \"   select \" \\\n",
    "        \"       distinct r.route_id,r.bus_stop_id,r.ordinal,d.collide_at, \" \\\n",
    "        \"       d.task_id,d.delay,d.submit_in,d.departure_time, \" \\\n",
    "        \"       date_part('HOUR' , d.departure_time) as hour, date_part('minutes',d.departure_time) as minutes,\" \\\n",
    "        \"       case \" \\\n",
    "        \"           when \" \\\n",
    "        \"               extract(dow from submit_in) = 0 or \" \\\n",
    "        \"               extract(dow from submit_in) = 6 then 0 \" \\\n",
    "        \"           else 1 \" \\\n",
    "        \"       end as day_type \" \\\n",
    "        \"   from \" \\\n",
    "        \"       delay_list d, route_bus_stop_list r \" \\\n",
    "        \"   where \" \\\n",
    "        \"       d.bus_stop_id = r.bus_stop_id \" \\\n",
    "        \"       and r.task_id = d.task_id \" \\\n",
    "        \"), \" \\\n",
    "        \"access_info as( \" \\\n",
    "        \"   select \" \\\n",
    "        \"       count(distinct session_id) as access_num,browsing_at::date as date, \" \\\n",
    "        \"       date_part('HOUR', browsing_at) as hour, \" \\\n",
    "        \"       case \" \\\n",
    "        \"           when extract(dow from browsing_at::date) = 0 \" \\\n",
    "        \"           or extract(dow from browsing_at::date) = 6 then 0 \" \\\n",
    "        \"           else 1 \" \\\n",
    "        \"       end as youbi \" \\\n",
    "        \"   from \" \\\n",
    "        \"       user_browsing_log ubl \" \\\n",
    "        \"   group by date, hour \" \\\n",
    "        \") \" \\\n",
    "        \"select \" \\\n",
    "        \"case \" \\\n",
    "        \"when delay between 0 and 60 then 0 \" \\\n",
    "        \"when delay between 61 and 120 then 1 \" \\\n",
    "        \"when delay between 121 and 180 then 2 \" \\\n",
    "        \"when delay between 181 and 240 then 3 \" \\\n",
    "        \"when delay between 241 and 300 then 4 \" \\\n",
    "        \"when delay between 301 and 360 then 5 \" \\\n",
    "        \"when delay between 361 and 420 then 6 \" \\\n",
    "        \"when delay between 421 and 480 then 7 \" \\\n",
    "        \"when delay between 481 and 540 then 8 \" \\\n",
    "        \"when delay > 540 then 9 \" \\\n",
    "        \"end as delay, \" \\\n",
    "        \"   ai.hour as time, \" \\\n",
    "        \"   di.minutes, \" \\\n",
    "        \"   ai.access_num,ai.youbi, \" \\\n",
    "        \"   case \" \\\n",
    "        \"       when submit_in = '2017-07-23' then 1 /* 航空祭 */ \" \\\n",
    "        \"       when (submit_in between '2018-01-26' and '2018-02-18') or \" \\\n",
    "        \"            (submit_in between '2017-01-27' and '2017-02-19') \" \\\n",
    "        \"       then 2/* ひょうとう祭り */ \" \\\n",
    "        \"       when (submit_in between '2017-07-06' and '2017-07-09') or \" \\\n",
    "        \"            (submit_in between '2018-07-05' and '2018-07-08') \" \\\n",
    "        \"       then 3/* セガサミーカップ */ \" \\\n",
    "        \"       else 0 \" \\\n",
    "        \"   end as event, \" \\\n",
    "        \"   case \" \\\n",
    "        \"       when di.route_id in (13,14,23,24,55,56,58,59,60,61,62,63,64,67,68,69,70,71,74, \" \\\n",
    "        \"                            78,79,80,81,82,91,92,93,94,95,96,97,98,99,106,107,108,109,11) \" \\\n",
    "        \"       then 1 \" \\\n",
    "        \"       else 0 \" \\\n",
    "        \"   end as destination, \" \\\n",
    "        \"   case \" \\\n",
    "        \"       when date_part('month',submit_in) in (3,4,5,6,9,10,11) then 1 \" \\\n",
    "        \"       when date_part('month', submit_in) in (7,8) then 0 \" \\\n",
    "        \"       when date_part('month', submit_in) in (12,1,2) then 2 \" \\\n",
    "        \"   end as season, \" \\\n",
    "        \"   s.*, \" \\\n",
    "        \"   b.cntpopulation, \" \\\n",
    "        \"   case \" \\\n",
    "        \"       when route_id = 11 \" \\\n",
    "        \"       then 1 else 0 \" \\\n",
    "        \"   end as kouyoudai_11, \" \\\n",
    "        \"   case \" \\\n",
    "        \"       when route_id = 12 \" \\\n",
    "        \"       then 1 else 0 \" \\\n",
    "        \"   end as kouyoudai_12, \" \\\n",
    "        \"   case \" \\\n",
    "        \"       when route_id = 13 \" \\\n",
    "        \"       then 1 else 0 \" \\\n",
    "        \"   end as kouyoudai_13,\" \\\n",
    "        \"   case \" \\\n",
    "        \"       when route_id = 14 \" \\\n",
    "        \"       then 1 else 0 \" \\\n",
    "        \"   end as kouyoudai_14, \" \\\n",
    "        \"   case \" \\\n",
    "        \"       when route_id = 23 \" \\\n",
    "        \"       then 1 else 0 \" \\\n",
    "        \"   end as kouyoudai_23, \" \\\n",
    "        \"   case \" \\\n",
    "        \"       when route_id = 24 \" \\\n",
    "        \"       then 1 else 0 \" \\\n",
    "        \"   end as kouyoudai_24, \" \\\n",
    "        \"   case \" \\\n",
    "        \"       when route_id = 55 \" \\\n",
    "        \"       then 1 else 0 \" \\\n",
    "        \"   end as poor_55, \" \\\n",
    "        \"   case \" \\\n",
    "        \"       when route_id = 56 \" \\\n",
    "        \"       then 1 else 0 \" \\\n",
    "        \"   end as poor_56, \" \\\n",
    "        \"   case \" \\\n",
    "        \"       when route_id = 57 \" \\\n",
    "        \"       then 1 else 0 \" \\\n",
    "        \"   end as poor_57, \" \\\n",
    "        \"   case \" \\\n",
    "        \"       when route_id = 58 \" \\\n",
    "        \"       then 1 else 0 \" \\\n",
    "        \"   end as tosyokan_58, \" \\\n",
    "        \"   case \" \\\n",
    "        \"       when route_id = 59 \" \\\n",
    "        \"       then 1 else 0 \" \\\n",
    "        \"   end as yuumai_59, \" \\\n",
    "        \"   case \" \\\n",
    "        \"       when route_id = 60 \" \\\n",
    "        \"       then 1 else 0 \" \\\n",
    "        \"   end as yuumai_60, \" \\\n",
    "        \"   case \" \\\n",
    "        \"       when route_id = 61 \" \\\n",
    "        \"       then 1 else 0 \" \\\n",
    "        \"   end as sakuragi_61, \" \\\n",
    "        \"   case \" \\\n",
    "        \"       when route_id = 62 \" \\\n",
    "        \"       then 1 else 0 \" \\\n",
    "        \"   end as sakuragi_62, \" \\\n",
    "        \"   case \" \\\n",
    "        \"       when route_id = 63 \" \\\n",
    "        \"       then 1 else 0 \" \\\n",
    "        \"   end as sakuragi_63, \" \\\n",
    "        \"   case \" \\\n",
    "        \"       when route_id = 63 \" \\\n",
    "        \"       then 1 else 0 \" \\\n",
    "        \"   end as sakuragi_63, \" \\\n",
    "        \"   case \" \\\n",
    "        \"       when route_id = 64 \" \\\n",
    "        \"       then 1 else 0 \" \\\n",
    "        \"   end as sakuragi_64, \" \\\n",
    "        \"   case \" \\\n",
    "        \"       when route_id = 67 \" \\\n",
    "        \"       then 1 else 0 \" \\\n",
    "        \"   end as inaho_67, \" \\\n",
    "        \"   case \" \\\n",
    "        \"       when route_id = 68 \" \\\n",
    "        \"       then 1 else 0 \" \\\n",
    "        \"   end as inaho_68, \" \\\n",
    "        \"   case \" \\\n",
    "        \"       when route_id = 67 \" \\\n",
    "        \"       then 1 else 0 \" \\\n",
    "        \"   end as inaho_67, \" \\\n",
    "        \"   case \" \\\n",
    "        \"       when route_id = 68 \" \\\n",
    "        \"       then 1 else 0 \" \\\n",
    "        \"   end as inaho_68, \" \\\n",
    "        \"   case \" \\\n",
    "        \"       when route_id = 69 \" \\\n",
    "        \"       then 1 else 0 \" \\\n",
    "        \"   end as sikotuko_69, \" \\\n",
    "        \"   case \" \\\n",
    "        \"       when route_id = 70 \" \\\n",
    "        \"       then 1 else 0 \" \\\n",
    "        \"   end as kuukousinai_70, \" \\\n",
    "        \"   case \" \\\n",
    "        \"       when route_id = 71 \" \\\n",
    "        \"       then 1 else 0 \" \\\n",
    "        \"   end as yamato_71, \" \\\n",
    "        \"   case \" \\\n",
    "        \"       when route_id = 72 \" \\\n",
    "        \"       then 1 else 0 \" \\\n",
    "        \"   end as higasibutai_72, \" \\\n",
    "        \"   case \" \\\n",
    "        \"       when route_id = 74 \" \\\n",
    "        \"       then 1 else 0 \" \\\n",
    "        \"   end as midoridai_74, \" \\\n",
    "        \"   case \" \\\n",
    "        \"       when route_id = 80 \" \\\n",
    "        \"       then 1 else 0 \" \\\n",
    "        \"   end as kuukousinai_80, \" \\\n",
    "        \"   case \" \\\n",
    "        \"       when route_id = 81 \" \\\n",
    "        \"       then 1 else 0 \" \\\n",
    "        \"   end as sikotuko_81, \" \\\n",
    "        \"   case \" \\\n",
    "        \"       when route_id = 82 \" \\\n",
    "        \"       then 1 else 0 \" \\\n",
    "        \"   end as yamato_82, \" \\\n",
    "        \"   case \" \\\n",
    "        \"       when route_id = 83 \" \\\n",
    "        \"       then 1 else 0 \" \\\n",
    "        \"   end as higashi_83, \" \\\n",
    "        \"   case \" \\\n",
    "        \"       when route_id = 84 \" \\\n",
    "        \"       then 1 else 0 \" \\\n",
    "        \"   end as higashi_84, \" \\\n",
    "        \"   case \" \\\n",
    "        \"       when route_id = 85 \" \\\n",
    "        \"       then 1 else 0 \" \\\n",
    "        \"   end as higashi_85, \" \\\n",
    "        \"   case \" \\\n",
    "        \"       when route_id = 91 \" \\\n",
    "        \"       then 1 else 0 \" \\\n",
    "        \"   end as midoridai_91, \" \\\n",
    "        \"   case \" \\\n",
    "        \"       when route_id = 92 \" \\\n",
    "        \"       then 1 else 0 \" \\\n",
    "        \"   end as sakuragi_92, \" \\\n",
    "        \"   case \" \\\n",
    "        \"       when route_id = 93 \" \\\n",
    "        \"       then 1 else 0 \" \\\n",
    "        \"   end as kouyoudai_93, \" \\\n",
    "        \"   case \" \\\n",
    "        \"       when route_id = 94 \" \\\n",
    "        \"       then 1 else 0 \" \\\n",
    "        \"   end as kouyoudai_94, \" \\\n",
    "        \"   case \" \\\n",
    "        \"       when route_id = 95 \" \\\n",
    "        \"       then 1 else 0 \" \\\n",
    "        \"   end as kouyoudai_95, \" \\\n",
    "        \"   case \" \\\n",
    "        \"       when route_id = 96 \" \\\n",
    "        \"       then 1 else 0 \" \\\n",
    "        \"   end as kouyoudai_96, \" \\\n",
    "        \"   case \" \\\n",
    "        \"       when route_id = 97 \" \\\n",
    "        \"       then 1 else 0 \" \\\n",
    "        \"   end as midaridai_97, \" \\\n",
    "        \"   case \" \\\n",
    "        \"       when route_id = 98 \" \\\n",
    "        \"       then 1 else 0 \" \\\n",
    "        \"   end as midaridai_98, \" \\\n",
    "        \"   case \" \\\n",
    "        \"       when route_id = 99 \" \\\n",
    "        \"       then 1 else 0 \" \\\n",
    "        \"   end as sakuragi_99, \" \\\n",
    "        \"   case \" \\\n",
    "        \"       when route_id = 100 \" \\\n",
    "        \"       then 1 else 0 \" \\\n",
    "        \"   end as sakuragi_100, \" \\\n",
    "        \"   case \" \\\n",
    "        \"       when route_id = 106 \" \\\n",
    "        \"       then 1 else 0 \" \\\n",
    "        \"   end as higashibutai_106, \" \\\n",
    "        \"   case \" \\\n",
    "        \"       when route_id = 107 \" \\\n",
    "        \"       then 1 else 0 \" \\\n",
    "        \"   end as higashibutai_107, \" \\\n",
    "        \"   case \" \\\n",
    "        \"       when route_id = 108 \" \\\n",
    "        \"       then 1 else 0 \" \\\n",
    "        \"   end as higashibutai_108, \" \\\n",
    "        \"   case \" \\\n",
    "        \"       when route_id = 109 \" \\\n",
    "        \"       then 1 else 0 \" \\\n",
    "        \"   end as higashibutai_109, \" \\\n",
    "        \"   case \" \\\n",
    "        \"       when route_id = 110 \" \\\n",
    "        \"       then 1 else 0 \" \\\n",
    "        \"   end as yuumai_110, \" \\\n",
    "        \"   di.route_id \" \\\n",
    "        \"from \" \\\n",
    "        \"   spot_bus_stop s, \" \\\n",
    "        \"   delay_info di, \" \\\n",
    "        \"   access_info ai,\" \\\n",
    "        \"   bus_stop_flowting_population b \" \\\n",
    "        \"where \" \\\n",
    "        \"   di.hour = ai.hour \" \\\n",
    "        \"   and di.submit_in = ai.date \" \\\n",
    "        \"   and s.bus_stop_id = di.bus_stop_id \" \\\n",
    "        \"   and b.hour = di.hour::text \" \\\n",
    "        \"   and date_part('MONTH', di.submit_in)::text = b.month \" \\\n",
    "        \"   and date_part('YEAR', di.submit_in) = 2018 \" \\\n",
    "        \"   and di.day_type::text = b.day_type \" \\\n",
    "        \"   and b.bus_stop_id = di.bus_stop_id \" \\\n",
    "        \"order by s.bus_stop_id \"\n"
   ]
  },
  {
   "cell_type": "code",
   "execution_count": 3,
   "metadata": {
    "collapsed": true
   },
   "outputs": [],
   "source": [
    "# sql_result = psql.read_sql(all_season_sql, conn)\n",
    "sql_result = pd.read_csv(\"./softmax_routeDummy.csv\")"
   ]
  },
  {
   "cell_type": "code",
   "execution_count": 4,
   "metadata": {},
   "outputs": [],
   "source": [
    "max_len = sql_result.size\n",
    "\n",
    "percent_list = [sql_result[sql_result['delay'] == 0].size / max_len * 100,\n",
    "                sql_result[sql_result['delay'] == 1].size / max_len * 100,\n",
    "                sql_result[sql_result['delay'] == 2].size / max_len * 100,\n",
    "                sql_result[sql_result['delay'] == 3].size / max_len * 100,\n",
    "                sql_result[sql_result['delay'] == 4].size / max_len * 100,\n",
    "                sql_result[sql_result['delay'] == 5].size / max_len * 100,\n",
    "                sql_result[sql_result['delay'] == 6].size / max_len * 100,\n",
    "                sql_result[sql_result['delay'] == 7].size / max_len * 100,\n",
    "                sql_result[sql_result['delay'] == 8].size / max_len * 100,\n",
    "                sql_result[sql_result['delay'] == 9].size / max_len * 100]"
   ]
  },
  {
   "cell_type": "code",
   "execution_count": 5,
   "metadata": {},
   "outputs": [],
   "source": [
    "def delay_threshold(one_line):\n",
    "    delay_label = 0\n",
    "    for i, percent in enumerate(percent_list):\n",
    "        if one_line['delay'] == i:\n",
    "            if percent >= 8:\n",
    "                return delay_label\n",
    "    delay_label = 1\n",
    "    return delay_label\n"
   ]
  },
  {
   "cell_type": "code",
   "execution_count": 6,
   "metadata": {},
   "outputs": [],
   "source": [
    "def data_split(x, y):\n",
    "    x_train, x_test, y_train, y_test = model_selection.train_test_split(\n",
    "        x, y, train_size=int(len(x) * 0.8))\n",
    "\n",
    "    return x_train, x_test, y_train, y_test"
   ]
  },
  {
   "cell_type": "code",
   "execution_count": 7,
   "metadata": {},
   "outputs": [],
   "source": [
    "def smote(x_train, y_train):\n",
    "    print('サイズ調整前の学習データのlabel_zero length:{}'.format((len(y_train[y_train == 0]))))\n",
    "    print('サイズ調整前の学習データのlabel_one length:{}'.format((len(y_train[y_train == 1]))))\n",
    "    \n",
    "    sm = SMOTE(ratio='auto', k_neighbors=5, random_state=7)\n",
    "    balance_data, balance_target = \\\n",
    "        sm.fit_sample(x_train, y_train)\n",
    "    \n",
    "    print('サイズ調整後の学習データのlabel_zero length:{}'.format(len(balance_target[balance_target == 0])))\n",
    "    print('サイズ調整後の学習データlabel_one length:{}'.format(len(balance_target[balance_target == 1])))\n",
    "\n",
    "    return balance_data, balance_target"
   ]
  },
  {
   "cell_type": "code",
   "execution_count": 8,
   "metadata": {},
   "outputs": [],
   "source": [
    "def convert_spot_to_bit(one_line):\n",
    "    bit_column = one_line[9:46]\n",
    "    spot_bit = 0\n",
    "    \n",
    "    for i, bit in enumerate(bit_column):\n",
    "        if bit == 1:\n",
    "            spot_bit += 2 ** i\n",
    "        \n",
    "    return spot_bit"
   ]
  },
  {
   "cell_type": "code",
   "execution_count": 9,
   "metadata": {},
   "outputs": [],
   "source": [
    "def bus_stop_data_selection(bus_stop_id):\n",
    "    filtered = sql_result[sql_result['bus_stop_id'] == bus_stop_id].copy()\n",
    "    filtered = filtered[(filtered['delay'] == 0) |\n",
    "                        (filtered['delay'] == 7) | (filtered['delay'] == 8) | (filtered['delay'] == 9)]\n",
    "\n",
    "    delay_label = filtered.apply(lambda one_line: delay_threshold(one_line), axis=1)\n",
    "    filtered['delay_label'] = delay_label\n",
    "\n",
    "    spot_bit = filtered.apply(lambda one_line: convert_spot_to_bit(one_line), axis=1)\n",
    "    spot_eigenvalue = spot_bit.apply(lambda bit: bit % 5000)\n",
    "    filtered['spot_eigenvalue'] = spot_eigenvalue\n",
    "\n",
    "    label_zero = len(filtered[filtered['delay_label'] == 0])\n",
    "    label_one = len(filtered[filtered['delay_label'] == 1])\n",
    "\n",
    "    print('label_zero length:{}'.format(label_zero))\n",
    "    print('label_one length:{}'.format(label_one))\n",
    "    \n",
    "    print(label_one)\n",
    "\n",
    "    if label_zero == 0:\n",
    "        print('label_zeroが一件もありません')\n",
    "        return 0, 0, 0\n",
    "    elif label_one == 0:\n",
    "        print('label_oneが一件もありません')\n",
    "        return 0, 0, 0\n",
    "    length = len(filtered)\n",
    "    x = filtered[['time', 'youbi', 'event', 'season', 'access_num',\n",
    "                  'cntpopulation']]\n",
    "    y = filtered['delay_label']\n",
    "\n",
    "    return x, y, length"
   ]
  },
  {
   "cell_type": "code",
   "execution_count": 10,
   "metadata": {},
   "outputs": [],
   "source": [
    "def data_selection():\n",
    "    labeled_list = sql_result.copy()\n",
    "    labeled = sql_result.apply(lambda one_line:\n",
    "                               delay_threshold(one_line), axis=1)\n",
    "    labeled_list['delay_label'] = labeled\n",
    "\n",
    "    spot_bit = sql_result.apply(lambda one_line:\n",
    "                                convert_spot_to_bit(one_line), axis=1)\n",
    "    spot_eigenvalue = spot_bit.apply(lambda bit: bit % 5000)\n",
    "    labeled_list['spot_eigenvalue'] = spot_eigenvalue\n",
    "\n",
    "    label_zero = labeled_list[labeled_list['delay_label'] == 0]\n",
    "    label_one = labeled_list[labeled_list['delay_label'] == 1]\n",
    "    length = 0\n",
    "\n",
    "    print('label_zero length:{}'.format(len(label_zero)))\n",
    "    print('label_one length:{}'.format(len(label_one)))\n",
    "\n",
    "    if len(label_zero) == 0:\n",
    "        print('label_zeroが一件もありません')\n",
    "    elif len(label_one) == 0:\n",
    "        print('label_oneが一件もありません')\n",
    "    elif len(label_zero) <= len(label_one):\n",
    "        label_one = label_one.sample(len(label_zero))\n",
    "        length = len(label_zero)\n",
    "    elif len(label_one) <= len(label_zero):\n",
    "        label_zero = label_zero.sample(len(label_one))\n",
    "        length = len(label_one)\n",
    "\n",
    "    concat = pd.concat([label_zero, label_one], ignore_index=True, axis=0)\n",
    "    y = concat['delay_label']\n",
    "    x = concat[['time', 'youbi', 'event',\n",
    "                'access_num', 'season', 'spot_eigenvalue', 'cntpopulation', \n",
    "                'kouyoudai_11', 'kouyoudai_12', 'kouyoudai_13', 'kouyoudai_14', 'kouyoudai_23', 'kouyoudai_24', \n",
    "                'poor_55', 'poor_56', 'poor_57', \n",
    "                'tosyokan_58', \n",
    "                'yuumai_59', 'yuumai_60', \n",
    "                'sakuragi_61', 'sakuragi_62', 'sakuragi_63', 'sakuragi_63', 'sakuragi_64', \n",
    "                'inaho_67', 'inaho_68', 'inaho_67', 'inaho_68', \n",
    "                'sikotuko_69', 'kuukousinai_70', 'yamato_71', \n",
    "                'higasibutai_72', 'midoridai_74', \n",
    "                'kuukousinai_80', 'sikotuko_81', 'yamato_82', 'higashi_83', 'higashi_84', 'higashi_85', \n",
    "                'midoridai_91', 'sakuragi_92', 'kouyoudai_93', 'kouyoudai_94', 'kouyoudai_95', 'kouyoudai_96', \n",
    "                'midaridai_97', 'midaridai_98', \n",
    "                'sakuragi_99', 'sakuragi_100', \n",
    "                'higashibutai_106', 'higashibutai_107', 'higashibutai_108', 'higashibutai_109', \n",
    "                'yuumai_110']]\n",
    "       \n",
    "    return x, y, length"
   ]
  },
  {
   "cell_type": "code",
   "execution_count": 14,
   "metadata": {
    "collapsed": true
   },
   "outputs": [
    {
     "name": "stdout",
     "output_type": "stream",
     "text": [
      "label_zero length:1253\nlabel_one length:106\n106\nepochs2\nサイズ調整前の学習データのlabel_zero length:1002\nサイズ調整前の学習データのlabel_one length:84\nサイズ調整後の学習データのlabel_zero length:1002\nサイズ調整後の学習データlabel_one length:1002\n"
     ]
    },
    {
     "name": "stdout",
     "output_type": "stream",
     "text": [
      "\r 32/273 [==>...........................] - ETA: 20s"
     ]
    },
    {
     "name": "stdout",
     "output_type": "stream",
     "text": [
      "\b\b\b\b\b\b\b\b\b\b\b\b\b\b\b\b\b\b\b\b\b\b\b\b\b\b\b\b\b\b\b\b\b\b\b\b\b\b\b\b\b\b\b\b\b\b\b\b\b\b\b\r273/273 [==============================] - 3s 10ms/step\n"
     ]
    },
    {
     "name": "stdout",
     "output_type": "stream",
     "text": [
      "サイズ調整前の学習データのlabel_zero length:1002\nサイズ調整前の学習データのlabel_one length:85\nサイズ調整後の学習データのlabel_zero length:1002\nサイズ調整後の学習データlabel_one length:1002\n"
     ]
    },
    {
     "name": "stdout",
     "output_type": "stream",
     "text": [
      "\r 32/272 [==>...........................] - ETA: 20s"
     ]
    },
    {
     "name": "stdout",
     "output_type": "stream",
     "text": [
      "\b\b\b\b\b\b\b\b\b\b\b\b\b\b\b\b\b\b\b\b\b\b\b\b\b\b\b\b\b\b\b\b\b\b\b\b\b\b\b\b\b\b\b\b\b\b\b\b\b\b\b\r272/272 [==============================] - 3s 10ms/step\n"
     ]
    },
    {
     "name": "stdout",
     "output_type": "stream",
     "text": [
      "サイズ調整前の学習データのlabel_zero length:1002\nサイズ調整前の学習データのlabel_one length:85\nサイズ調整後の学習データのlabel_zero length:1002\nサイズ調整後の学習データlabel_one length:1002\n"
     ]
    },
    {
     "name": "stdout",
     "output_type": "stream",
     "text": [
      "\r 32/272 [==>...........................] - ETA: 20s"
     ]
    },
    {
     "name": "stdout",
     "output_type": "stream",
     "text": [
      "\b\b\b\b\b\b\b\b\b\b\b\b\b\b\b\b\b\b\b\b\b\b\b\b\b\b\b\b\b\b\b\b\b\b\b\b\b\b\b\b\b\b\b\b\b\b\b\b\b\b\b\r272/272 [==============================] - 3s 10ms/step\n"
     ]
    },
    {
     "name": "stdout",
     "output_type": "stream",
     "text": [
      "サイズ調整前の学習データのlabel_zero length:1003\nサイズ調整前の学習データのlabel_one length:85\nサイズ調整後の学習データのlabel_zero length:1003\nサイズ調整後の学習データlabel_one length:1003\n"
     ]
    },
    {
     "name": "stdout",
     "output_type": "stream",
     "text": [
      "\r 32/271 [==>...........................] - ETA: 21s"
     ]
    },
    {
     "name": "stdout",
     "output_type": "stream",
     "text": [
      "\b\b\b\b\b\b\b\b\b\b\b\b\b\b\b\b\b\b\b\b\b\b\b\b\b\b\b\b\b\b\b\b\b\b\b\b\b\b\b\b\b\b\b\b\b\b\b\b\b\b\b\r271/271 [==============================] - 3s 11ms/step\n"
     ]
    },
    {
     "name": "stdout",
     "output_type": "stream",
     "text": [
      "サイズ調整前の学習データのlabel_zero length:1003\nサイズ調整前の学習データのlabel_one length:85\nサイズ調整後の学習データのlabel_zero length:1003\nサイズ調整後の学習データlabel_one length:1003\n"
     ]
    },
    {
     "name": "stdout",
     "output_type": "stream",
     "text": [
      "\r 32/271 [==>...........................] - ETA: 20s"
     ]
    },
    {
     "name": "stdout",
     "output_type": "stream",
     "text": [
      "\b\b\b\b\b\b\b\b\b\b\b\b\b\b\b\b\b\b\b\b\b\b\b\b\b\b\b\b\b\b\b\b\b\b\b\b\b\b\b\b\b\b\b\b\b\b\b\b\b\b\b\r271/271 [==============================] - 3s 10ms/step\n"
     ]
    },
    {
     "name": "stdout",
     "output_type": "stream",
     "text": [
      "epochs2\nサイズ調整前の学習データのlabel_zero length:1002\nサイズ調整前の学習データのlabel_one length:84\nサイズ調整後の学習データのlabel_zero length:1002\nサイズ調整後の学習データlabel_one length:1002\n"
     ]
    },
    {
     "name": "stdout",
     "output_type": "stream",
     "text": [
      "\r 32/273 [==>...........................] - ETA: 21s"
     ]
    },
    {
     "name": "stdout",
     "output_type": "stream",
     "text": [
      "\b\b\b\b\b\b\b\b\b\b\b\b\b\b\b\b\b\b\b\b\b\b\b\b\b\b\b\b\b\b\b\b\b\b\b\b\b\b\b\b\b\b\b\b\b\b\b\b\b\b\b\r273/273 [==============================] - 3s 10ms/step\n"
     ]
    },
    {
     "name": "stdout",
     "output_type": "stream",
     "text": [
      "サイズ調整前の学習データのlabel_zero length:1002\nサイズ調整前の学習データのlabel_one length:85\nサイズ調整後の学習データのlabel_zero length:1002\nサイズ調整後の学習データlabel_one length:1002\n"
     ]
    },
    {
     "name": "stdout",
     "output_type": "stream",
     "text": [
      "\r 32/272 [==>...........................] - ETA: 21s"
     ]
    },
    {
     "name": "stdout",
     "output_type": "stream",
     "text": [
      "\b\b\b\b\b\b\b\b\b\b\b\b\b\b\b\b\b\b\b\b\b\b\b\b\b\b\b\b\b\b\b\b\b\b\b\b\b\b\b\b\b\b\b\b\b\b\b\b\b\b\b\r272/272 [==============================] - 3s 11ms/step\n"
     ]
    },
    {
     "name": "stdout",
     "output_type": "stream",
     "text": [
      "サイズ調整前の学習データのlabel_zero length:1002\nサイズ調整前の学習データのlabel_one length:85\nサイズ調整後の学習データのlabel_zero length:1002\nサイズ調整後の学習データlabel_one length:1002\n"
     ]
    },
    {
     "name": "stdout",
     "output_type": "stream",
     "text": [
      "\r 32/272 [==>...........................] - ETA: 21s"
     ]
    },
    {
     "name": "stdout",
     "output_type": "stream",
     "text": [
      "\b\b\b\b\b\b\b\b\b\b\b\b\b\b\b\b\b\b\b\b\b\b\b\b\b\b\b\b\b\b\b\b\b\b\b\b\b\b\b\b\b\b\b\b\b\b\b\b\b\b\b\r272/272 [==============================] - 3s 11ms/step\n"
     ]
    },
    {
     "name": "stdout",
     "output_type": "stream",
     "text": [
      "サイズ調整前の学習データのlabel_zero length:1003\nサイズ調整前の学習データのlabel_one length:85\nサイズ調整後の学習データのlabel_zero length:1003\nサイズ調整後の学習データlabel_one length:1003\n"
     ]
    },
    {
     "name": "stdout",
     "output_type": "stream",
     "text": [
      "\r 32/271 [==>...........................] - ETA: 22s"
     ]
    },
    {
     "name": "stdout",
     "output_type": "stream",
     "text": [
      "\b\b\b\b\b\b\b\b\b\b\b\b\b\b\b\b\b\b\b\b\b\b\b\b\b\b\b\b\b\b\b\b\b\b\b\b\b\b\b\b\b\b\b\b\b\b\b\b\b\b\b\r271/271 [==============================] - 3s 11ms/step\n"
     ]
    },
    {
     "name": "stdout",
     "output_type": "stream",
     "text": [
      "サイズ調整前の学習データのlabel_zero length:1003\nサイズ調整前の学習データのlabel_one length:85\nサイズ調整後の学習データのlabel_zero length:1003\nサイズ調整後の学習データlabel_one length:1003\n"
     ]
    },
    {
     "name": "stdout",
     "output_type": "stream",
     "text": [
      "\r 32/271 [==>...........................] - ETA: 22s"
     ]
    },
    {
     "name": "stdout",
     "output_type": "stream",
     "text": [
      "\b\b\b\b\b\b\b\b\b\b\b\b\b\b\b\b\b\b\b\b\b\b\b\b\b\b\b\b\b\b\b\b\b\b\b\b\b\b\b\b\b\b\b\b\b\b\b\b\b\b\b\r271/271 [==============================] - 3s 11ms/step\n"
     ]
    },
    {
     "name": "stdout",
     "output_type": "stream",
     "text": [
      "epochs2\nサイズ調整前の学習データのlabel_zero length:1002\nサイズ調整前の学習データのlabel_one length:84\nサイズ調整後の学習データのlabel_zero length:1002\nサイズ調整後の学習データlabel_one length:1002\n"
     ]
    },
    {
     "name": "stdout",
     "output_type": "stream",
     "text": [
      "\r 32/273 [==>...........................] - ETA: 22s"
     ]
    },
    {
     "name": "stdout",
     "output_type": "stream",
     "text": [
      "\b\b\b\b\b\b\b\b\b\b\b\b\b\b\b\b\b\b\b\b\b\b\b\b\b\b\b\b\b\b\b\b\b\b\b\b\b\b\b\b\b\b\b\b\b\b\b\b\b\b\b\r273/273 [==============================] - 3s 11ms/step\n"
     ]
    },
    {
     "name": "stdout",
     "output_type": "stream",
     "text": [
      "サイズ調整前の学習データのlabel_zero length:1002\nサイズ調整前の学習データのlabel_one length:85\nサイズ調整後の学習データのlabel_zero length:1002\nサイズ調整後の学習データlabel_one length:1002\n"
     ]
    },
    {
     "name": "stdout",
     "output_type": "stream",
     "text": [
      "\r 32/272 [==>...........................] - ETA: 23s"
     ]
    },
    {
     "name": "stdout",
     "output_type": "stream",
     "text": [
      "\b\b\b\b\b\b\b\b\b\b\b\b\b\b\b\b\b\b\b\b\b\b\b\b\b\b\b\b\b\b\b\b\b\b\b\b\b\b\b\b\b\b\b\b\b\b\b\b\b\b\b\r272/272 [==============================] - 3s 12ms/step\n"
     ]
    },
    {
     "name": "stdout",
     "output_type": "stream",
     "text": [
      "サイズ調整前の学習データのlabel_zero length:1002\nサイズ調整前の学習データのlabel_one length:85\nサイズ調整後の学習データのlabel_zero length:1002\nサイズ調整後の学習データlabel_one length:1002\n"
     ]
    },
    {
     "name": "stdout",
     "output_type": "stream",
     "text": [
      "\r 32/272 [==>...........................] - ETA: 23s"
     ]
    },
    {
     "name": "stdout",
     "output_type": "stream",
     "text": [
      "\b\b\b\b\b\b\b\b\b\b\b\b\b\b\b\b\b\b\b\b\b\b\b\b\b\b\b\b\b\b\b\b\b\b\b\b\b\b\b\b\b\b\b\b\b\b\b\b\b\b\b\r272/272 [==============================] - 3s 12ms/step\n"
     ]
    },
    {
     "name": "stdout",
     "output_type": "stream",
     "text": [
      "サイズ調整前の学習データのlabel_zero length:1003\nサイズ調整前の学習データのlabel_one length:85\nサイズ調整後の学習データのlabel_zero length:1003\nサイズ調整後の学習データlabel_one length:1003\n"
     ]
    },
    {
     "name": "stdout",
     "output_type": "stream",
     "text": [
      "\r 32/271 [==>...........................] - ETA: 23s"
     ]
    },
    {
     "name": "stdout",
     "output_type": "stream",
     "text": [
      "\b\b\b\b\b\b\b\b\b\b\b\b\b\b\b\b\b\b\b\b\b\b\b\b\b\b\b\b\b\b\b\b\b\b\b\b\b\b\b\b\b\b\b\b\b\b\b\b\b\b\b\r271/271 [==============================] - 3s 12ms/step\n"
     ]
    },
    {
     "name": "stdout",
     "output_type": "stream",
     "text": [
      "サイズ調整前の学習データのlabel_zero length:1003\nサイズ調整前の学習データのlabel_one length:85\nサイズ調整後の学習データのlabel_zero length:1003\nサイズ調整後の学習データlabel_one length:1003\n"
     ]
    },
    {
     "name": "stdout",
     "output_type": "stream",
     "text": [
      "\r 32/271 [==>...........................] - ETA: 23s"
     ]
    },
    {
     "name": "stdout",
     "output_type": "stream",
     "text": [
      "\b\b\b\b\b\b\b\b\b\b\b\b\b\b\b\b\b\b\b\b\b\b\b\b\b\b\b\b\b\b\b\b\b\b\b\b\b\b\b\b\b\b\b\b\b\b\b\b\b\b\b\r271/271 [==============================] - 3s 12ms/step\n"
     ]
    },
    {
     "name": "stdout",
     "output_type": "stream",
     "text": [
      "epochs2\nサイズ調整前の学習データのlabel_zero length:1002\nサイズ調整前の学習データのlabel_one length:84\nサイズ調整後の学習データのlabel_zero length:1002\nサイズ調整後の学習データlabel_one length:1002\n"
     ]
    },
    {
     "name": "stdout",
     "output_type": "stream",
     "text": [
      "\r 32/273 [==>...........................] - ETA: 23s"
     ]
    },
    {
     "name": "stdout",
     "output_type": "stream",
     "text": [
      "\b\b\b\b\b\b\b\b\b\b\b\b\b\b\b\b\b\b\b\b\b\b\b\b\b\b\b\b\b\b\b\b\b\b\b\b\b\b\b\b\b\b\b\b\b\b\b\b\b\b\b\r273/273 [==============================] - 3s 12ms/step\n"
     ]
    },
    {
     "name": "stdout",
     "output_type": "stream",
     "text": [
      "サイズ調整前の学習データのlabel_zero length:1002\nサイズ調整前の学習データのlabel_one length:85\nサイズ調整後の学習データのlabel_zero length:1002\nサイズ調整後の学習データlabel_one length:1002\n"
     ]
    },
    {
     "name": "stdout",
     "output_type": "stream",
     "text": [
      "\r 32/272 [==>...........................] - ETA: 24s"
     ]
    },
    {
     "name": "stdout",
     "output_type": "stream",
     "text": [
      "\b\b\b\b\b\b\b\b\b\b\b\b\b\b\b\b\b\b\b\b\b\b\b\b\b\b\b\b\b\b\b\b\b\b\b\b\b\b\b\b\b\b\b\b\b\b\b\b\b\b\b\r272/272 [==============================] - 3s 12ms/step\n"
     ]
    },
    {
     "name": "stdout",
     "output_type": "stream",
     "text": [
      "サイズ調整前の学習データのlabel_zero length:1002\nサイズ調整前の学習データのlabel_one length:85\nサイズ調整後の学習データのlabel_zero length:1002\nサイズ調整後の学習データlabel_one length:1002\n"
     ]
    },
    {
     "name": "stdout",
     "output_type": "stream",
     "text": [
      "\r 32/272 [==>...........................] - ETA: 23s"
     ]
    },
    {
     "name": "stdout",
     "output_type": "stream",
     "text": [
      "\b\b\b\b\b\b\b\b\b\b\b\b\b\b\b\b\b\b\b\b\b\b\b\b\b\b\b\b\b\b\b\b\b\b\b\b\b\b\b\b\b\b\b\b\b\b\b\b\b\b\b\r272/272 [==============================] - 3s 12ms/step\n"
     ]
    },
    {
     "name": "stdout",
     "output_type": "stream",
     "text": [
      "サイズ調整前の学習データのlabel_zero length:1003\nサイズ調整前の学習データのlabel_one length:85\nサイズ調整後の学習データのlabel_zero length:1003\nサイズ調整後の学習データlabel_one length:1003\n"
     ]
    },
    {
     "name": "stdout",
     "output_type": "stream",
     "text": [
      "\r 32/271 [==>...........................] - ETA: 24s"
     ]
    },
    {
     "name": "stdout",
     "output_type": "stream",
     "text": [
      "\b\b\b\b\b\b\b\b\b\b\b\b\b\b\b\b\b\b\b\b\b\b\b\b\b\b\b\b\b\b\b\b\b\b\b\b\b\b\b\b\b\b\b\b\b\b\b\b\b\b\b\r271/271 [==============================] - 3s 12ms/step\n"
     ]
    },
    {
     "name": "stdout",
     "output_type": "stream",
     "text": [
      "サイズ調整前の学習データのlabel_zero length:1003\nサイズ調整前の学習データのlabel_one length:85\nサイズ調整後の学習データのlabel_zero length:1003\nサイズ調整後の学習データlabel_one length:1003\n"
     ]
    },
    {
     "name": "stdout",
     "output_type": "stream",
     "text": [
      "\r 32/271 [==>...........................] - ETA: 23s"
     ]
    },
    {
     "name": "stdout",
     "output_type": "stream",
     "text": [
      "\b\b\b\b\b\b\b\b\b\b\b\b\b\b\b\b\b\b\b\b\b\b\b\b\b\b\b\b\b\b\b\b\b\b\b\b\b\b\b\b\b\b\b\b\b\b\b\b\b\b\b\r271/271 [==============================] - 3s 12ms/step\n"
     ]
    },
    {
     "name": "stdout",
     "output_type": "stream",
     "text": [
      "epochs2\nサイズ調整前の学習データのlabel_zero length:1002\nサイズ調整前の学習データのlabel_one length:84\nサイズ調整後の学習データのlabel_zero length:1002\nサイズ調整後の学習データlabel_one length:1002\n"
     ]
    },
    {
     "name": "stdout",
     "output_type": "stream",
     "text": [
      "\r 32/273 [==>...........................] - ETA: 24s"
     ]
    },
    {
     "name": "stdout",
     "output_type": "stream",
     "text": [
      "\b\b\b\b\b\b\b\b\b\b\b\b\b\b\b\b\b\b\b\b\b\b\b\b\b\b\b\b\b\b\b\b\b\b\b\b\b\b\b\b\b\b\b\b\b\b\b\b\b\b\b\r273/273 [==============================] - 3s 12ms/step\n"
     ]
    },
    {
     "name": "stdout",
     "output_type": "stream",
     "text": [
      "サイズ調整前の学習データのlabel_zero length:1002\nサイズ調整前の学習データのlabel_one length:85\nサイズ調整後の学習データのlabel_zero length:1002\nサイズ調整後の学習データlabel_one length:1002\n"
     ]
    },
    {
     "name": "stdout",
     "output_type": "stream",
     "text": [
      "\r 32/272 [==>...........................] - ETA: 25s"
     ]
    },
    {
     "name": "stdout",
     "output_type": "stream",
     "text": [
      "\b\b\b\b\b\b\b\b\b\b\b\b\b\b\b\b\b\b\b\b\b\b\b\b\b\b\b\b\b\b\b\b\b\b\b\b\b\b\b\b\b\b\b\b\b\b\b\b\b\b\b\r272/272 [==============================] - 3s 13ms/step\n"
     ]
    },
    {
     "name": "stdout",
     "output_type": "stream",
     "text": [
      "サイズ調整前の学習データのlabel_zero length:1002\nサイズ調整前の学習データのlabel_one length:85\nサイズ調整後の学習データのlabel_zero length:1002\nサイズ調整後の学習データlabel_one length:1002\n"
     ]
    },
    {
     "name": "stdout",
     "output_type": "stream",
     "text": [
      "\r 32/272 [==>...........................] - ETA: 25s"
     ]
    },
    {
     "name": "stdout",
     "output_type": "stream",
     "text": [
      "\b\b\b\b\b\b\b\b\b\b\b\b\b\b\b\b\b\b\b\b\b\b\b\b\b\b\b\b\b\b\b\b\b\b\b\b\b\b\b\b\b\b\b\b\b\b\b\b\b\b\b\r272/272 [==============================] - 3s 13ms/step\n"
     ]
    },
    {
     "name": "stdout",
     "output_type": "stream",
     "text": [
      "サイズ調整前の学習データのlabel_zero length:1003\nサイズ調整前の学習データのlabel_one length:85\nサイズ調整後の学習データのlabel_zero length:1003\nサイズ調整後の学習データlabel_one length:1003\n"
     ]
    },
    {
     "name": "stdout",
     "output_type": "stream",
     "text": [
      "\r 32/271 [==>...........................] - ETA: 25s"
     ]
    },
    {
     "name": "stdout",
     "output_type": "stream",
     "text": [
      "\b\b\b\b\b\b\b\b\b\b\b\b\b\b\b\b\b\b\b\b\b\b\b\b\b\b\b\b\b\b\b\b\b\b\b\b\b\b\b\b\b\b\b\b\b\b\b\b\b\b\b\r271/271 [==============================] - 3s 13ms/step\n"
     ]
    },
    {
     "name": "stdout",
     "output_type": "stream",
     "text": [
      "サイズ調整前の学習データのlabel_zero length:1003\nサイズ調整前の学習データのlabel_one length:85\nサイズ調整後の学習データのlabel_zero length:1003\nサイズ調整後の学習データlabel_one length:1003\n"
     ]
    }
   ],
   "source": [
    "from sklearn.model_selection import StratifiedKFold\n",
    "\n",
    "kFold = StratifiedKFold(n_splits=5, shuffle=True,\n",
    "                        random_state=np.random.seed(7))\n",
    "\n",
    "all_epoch_acc = []\n",
    "all_epoch_std = []\n",
    "\n",
    "X, Y, length = bus_stop_data_selection(184)\n",
    "\n",
    "# for i in range(5):\n",
    "epoch_acc = []\n",
    "epoch_std = []\n",
    "scores = []\n",
    "# for i in range(8):\n",
    "epochs = 2\n",
    "# if i == 0:\n",
    "#     epochs = 2\n",
    "# elif i == 1:\n",
    "#     epochs = 6\n",
    "# elif i == 2:\n",
    "#     epochs = 10\n",
    "# elif i == 3:\n",
    "#     epochs = 14\n",
    "# elif i == 4:\n",
    "#     epochs = 18\n",
    "# elif i == 5:\n",
    "#     epochs = 22\n",
    "# elif i == 6:\n",
    "#     epochs = 26\n",
    "# elif i == 7:\n",
    "#     epochs = 30\n",
    "\n",
    "for j in range(20):\n",
    "    print('epochs{}'.format(epochs))\n",
    "\n",
    "    if length != 0:\n",
    "        for train, test in kFold.split(X, Y):\n",
    "            balance_data, balance_target = smote(X.iloc[train], Y.iloc[train])\n",
    "            balance_target_one_hot = np.identity(2)[balance_target.astype(int)]\n",
    "            Y_test_one_hot = np.identity(2)[Y.iloc[test].astype(int)]\n",
    "\n",
    "            model = Sequential()\n",
    "\n",
    "            # 入力層\n",
    "            model.add(Dense(10, input_dim=balance_data.shape[1],\n",
    "                            activation='selu', kernel_initializer='he_normal',\n",
    "                            kernel_regularizer=regularizers.l2(0.01),\n",
    "                            activity_regularizer=regularizers.l1(0.01)\n",
    "                            ))\n",
    "            model.add(BatchNormalization())\n",
    "\n",
    "            # model.add(Dense(5, activation='selu', kernel_initializer='he_normal',\n",
    "            #                 kernel_regularizer=regularizers.l2(0.01),\n",
    "            #                 activity_regularizer=regularizers.l1(0.01)))\n",
    "            # model.add(BatchNormalization())\n",
    "\n",
    "            # 出力層\n",
    "            model.add(Dense(2, activation='softmax', kernel_initializer='he_normal'))\n",
    "\n",
    "            model.compile(\n",
    "                loss='categorical_crossentropy',\n",
    "                optimizer=RMSprop(lr=0.01),\n",
    "                metrics=['accuracy']\n",
    "            )\n",
    "\n",
    "            batch_size = int(len(balance_data) * 0.1)\n",
    "\n",
    "            model.fit(balance_data, balance_target_one_hot, epochs=epochs, batch_size=batch_size, verbose=0)\n",
    "            score = model.evaluate(X.iloc[test], Y_test_one_hot)\n",
    "\n",
    "            scores.append(score[1] * 100)\n",
    "\n",
    "        epoch_acc.append(np.mean(scores))\n",
    "        epoch_std.append(np.std(scores))\n",
    "\n",
    "    all_epoch_acc.append(np.mean(epoch_acc))\n",
    "    all_epoch_std.append(epoch_std)\n"
   ]
  },
  {
   "cell_type": "code",
   "execution_count": 13,
   "metadata": {
    "collapsed": false
   },
   "outputs": [
    {
     "name": "stdout",
     "output_type": "stream",
     "text": [
      "82.16503978076052\n"
     ]
    }
   ],
   "source": [
    "print(np.mean(all_epoch_acc[0:20]))\n"
   ]
  },
  {
   "cell_type": "code",
   "execution_count": null,
   "metadata": {},
   "outputs": [],
   "source": []
  }
 ],
 "metadata": {
  "kernelspec": {
   "display_name": "Python 2",
   "language": "python",
   "name": "python2"
  },
  "language_info": {
   "codemirror_mode": {
    "name": "ipython",
    "version": 2
   },
   "file_extension": ".py",
   "mimetype": "text/x-python",
   "name": "python",
   "nbconvert_exporter": "python",
   "pygments_lexer": "ipython2",
   "version": "2.7.6"
  }
 },
 "nbformat": 4,
 "nbformat_minor": 0
}
