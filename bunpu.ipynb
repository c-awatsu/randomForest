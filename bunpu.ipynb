{
 "cells": [
  {
   "cell_type": "code",
   "execution_count": 1,
   "metadata": {
    "collapsed": true
   },
   "outputs": [],
   "source": [
    "%matplotlib inline"
   ]
  },
  {
   "cell_type": "code",
   "execution_count": 2,
   "metadata": {},
   "outputs": [
    {
     "name": "stderr",
     "output_type": "stream",
     "text": [
      "/Users/ca/PycharmProjects/JupyterNoteBookExample/venv/lib/python3.6/site-packages/psycopg2/__init__.py:144: UserWarning: The psycopg2 wheel package will be renamed from release 2.8; in order to keep installing from binary please use \"pip install psycopg2-binary\" instead. For details see: <http://initd.org/psycopg/docs/install.html#binary-install-from-pypi>.\n  \"\"\")\n"
     ]
    }
   ],
   "source": [
    "import matplotlib.pyplot as pyPlot\n",
    "import pandas.io.sql as psql\n",
    "import psycopg2 as pg\n",
    "import numpy as np\n",
    "from matplotlib.font_manager import FontProperties"
   ]
  },
  {
   "cell_type": "code",
   "execution_count": 4,
   "metadata": {},
   "outputs": [],
   "source": [
    "with pg.connect(database='chi-navi-mesh',\n",
    "                host='localhost',\n",
    "                user='postgres',\n",
    "                port=5432) as conn:\n",
    "    all_season_sql = \"with delay_info as( \" \\\n",
    "                     \"with route_bus_stop_list as( \" \\\n",
    "                     \"select \" \\\n",
    "                     \"t.task_id,r.route_id,b.bus_stop_id,rbs.ordinal \" \\\n",
    "                     \"from \" \\\n",
    "                     \"bus_stop b,route r,route_bus_stop rbs,task t \" \\\n",
    "                     \"where \" \\\n",
    "                     \"b.bus_stop_id = rbs.bus_stop_id \" \\\n",
    "                     \"and r.route_id = rbs.route_id \" \\\n",
    "                     \"and t.route_id = r.route_id \" \\\n",
    "                     \"order by r.route_id,rbs.ordinal \" \\\n",
    "                     \"), \" \\\n",
    "                     \"delay_list as( \" \\\n",
    "                     \"with stddev as( \" \\\n",
    "                     \"select \" \\\n",
    "                     \"stddev_samp(extract(epoch from (collide_at - departure_time))) as stddev \" \\\n",
    "                     \"from \" \\\n",
    "                     \"task_delay \" \\\n",
    "                     \"where \" \\\n",
    "                     \"(collide_at - departure_time) > '00:00:00' \" \\\n",
    "                     \"), \" \\\n",
    "                     \"delay_avg as( \" \\\n",
    "                     \"select \" \\\n",
    "                     \"avg((extract(epoch from (collide_at - departure_time)))) as delay_avg \" \\\n",
    "                     \"from \" \\\n",
    "                     \"task_delay \" \\\n",
    "                     \"where \" \\\n",
    "                     \"(collide_at - departure_time) > '00:00:00' \" \\\n",
    "                     \") \" \\\n",
    "                     \"select \" \\\n",
    "                     \"td.task_id,td.departure_time,td.bus_stop_id,td.submit_in,td.collide_at \" \\\n",
    "                     \",extract(epoch from (td.collide_at - td2.departure_time)) as delay \" \\\n",
    "                     \"from \" \\\n",
    "                     \"task_delay td,delay_avg da,stddev std,task_detail td2 \" \\\n",
    "                     \"where \" \\\n",
    "                     \"(extract(epoch from (td.collide_at - td2.departure_time)) between \" \\\n",
    "                     \"da.delay_avg - std.stddev * 3 and da.delay_avg + std.stddev * 3) \" \\\n",
    "                     \"and extract(epoch from (td.collide_at - td2.departure_time)) > 0 \" \\\n",
    "                     \"and td.task_id = td2.task_id \" \\\n",
    "                     \"and td.bus_stop_id = td2.bus_stop_id \" \\\n",
    "                     \"and td.departure_time = td2.departure_time \" \\\n",
    "                     \") \" \\\n",
    "                     \"select \" \\\n",
    "                     \"distinct r.route_id,r.bus_stop_id,r.ordinal,d.collide_at, \" \\\n",
    "                     \"d.task_id,d.delay,d.submit_in,d.departure_time,date_part('HOUR' , d.departure_time) as time \" \\\n",
    "                     \"from \" \\\n",
    "                     \"delay_list d, route_bus_stop_list r \" \\\n",
    "                     \"where \" \\\n",
    "                     \"d.bus_stop_id = r.bus_stop_id \" \\\n",
    "                     \"and r.task_id = d.task_id \" \\\n",
    "                     \"), \" \\\n",
    "                     \"access_info as( \" \\\n",
    "                     \"select \" \\\n",
    "                     \"count(distinct session_id) as access_num,browsing_at::date as date,\" \\\n",
    "                     \"date_part('HOUR' , browsing_at) as time, \" \\\n",
    "                     \"case when \" \\\n",
    "                     \"extract(dow from browsing_at::date) = 0 or extract(dow from browsing_at::date) = 6 then 0 \" \\\n",
    "                     \"else 1 \" \\\n",
    "                     \"end as youbi \" \\\n",
    "                     \"from \" \\\n",
    "                     \"user_browsing_log ubl \" \\\n",
    "                     \"group by date,time \" \\\n",
    "                     \") \" \\\n",
    "                     \"select \" \\\n",
    "                     \"case \" \\\n",
    "                     \"when delay between 0 and 60 then 1 \" \\\n",
    "                     \"when delay between 61 and 120 then 2 \" \\\n",
    "                     \"when delay between 121 and 180 then 3 \" \\\n",
    "                     \"when delay between 181 and 240 then 4 \" \\\n",
    "                     \"when delay between 241 and 300 then 5 \" \\\n",
    "                     \"when delay between 301 and 360 then 6 \" \\\n",
    "                     \"when delay between 361 and 420 then 7 \" \\\n",
    "                     \"when delay between 421 and 480 then 8 \" \\\n",
    "                     \"when delay between 481 and 540 then 9 \" \\\n",
    "                     \"when delay > 540 then 10 \" \\\n",
    "                     \"end as delay, \" \\\n",
    "                     \"di.bus_stop_id,\" \\\n",
    "                     \"ai.time, \" \\\n",
    "                     \"ai.access_num,ai.youbi, \" \\\n",
    "                     \"case \" \\\n",
    "                     \"when submit_in = '2017-07-23' then 1/* 航空祭 */ \" \\\n",
    "                     \"when (submit_in between '2018-01-26' and '2018-02-18') or \" \\\n",
    "                     \"(submit_in between '2017-01-27' and '2017-02-19') \" \\\n",
    "                     \"then 2/* ひょうとう祭り */ \" \\\n",
    "                     \"when submit_in between '2017-07-06' and '2017-07-09' then 3/* セガサミーカップ */ \" \\\n",
    "                     \"else 0 \" \\\n",
    "                     \"end as event, \" \\\n",
    "                     \"case \" \\\n",
    "                     \"when \" \\\n",
    "                     \"di.route_id in (13,14,23,24,55,56,58,59,60,61,62,63,64,67,68,69,70,71,74\" \\\n",
    "                     \",78,79,80,81,82,91,92,93,94,95,96,97,98,99,106,107,108,109,11) then 1 \" \\\n",
    "                     \"else 0 \" \\\n",
    "                     \"end as destination \" \\\n",
    "                     \"from \" \\\n",
    "                     \"delay_info di,access_info ai \" \\\n",
    "                     \"where \" \\\n",
    "                     \"di.time = ai.time \" \\\n",
    "                     \"and di.submit_in = ai.date\"\n"
   ]
  },
  {
   "cell_type": "code",
   "execution_count": 5,
   "metadata": {},
   "outputs": [],
   "source": [
    "sql_result = psql.read_sql(all_season_sql, conn)"
   ]
  },
  {
   "cell_type": "code",
   "execution_count": 6,
   "metadata": {
    "collapsed": false
   },
   "outputs": [
    {
     "name": "stdout",
     "output_type": "stream",
     "text": [
      "32.8949404301408\n23.45659910258394\n18.072102738666253\n12.177007581618444\n6.684202382794369\n3.5123007891072255\n2.135231316725979\n0.6343803187374285\n0.23209036051369333\n0.20114497911186754\n"
     ]
    },
    {
     "data": {
      "text/plain": [
       "<BarContainer object of 10 artists>"
      ]
     },
     "execution_count": 6,
     "metadata": {},
     "output_type": "execute_result"
    },
    {
     "data": {
      "image/png": "[encoded data removed]",
      "text/plain": [
       "<Figure size 2880x720 with 1 Axes>"
      ]
     },
     "metadata": {},
     "output_type": "display_data"
    }
   ],
   "source": [
    "font_path = './ipaexg.ttf'\n",
    "font_prop = FontProperties(fname=font_path)\n",
    "pyPlot.figure(figsize=(40, 10))\n",
    "left = ['0~60', '61~120', '121~180', '181〜240', '241〜300', '301〜360', '361〜420', '421〜480', '481〜540', '541以上']\n",
    "\n",
    "sql_result = sql_result[sql_result['bus_stop_id'] == 183]\n",
    "\n",
    "delay_one = sql_result[sql_result['delay'] == 1].size\n",
    "delay_two = sql_result[sql_result['delay'] == 2].size\n",
    "delay_three = sql_result[sql_result['delay'] == 3].size\n",
    "delay_four = sql_result[sql_result['delay'] == 4].size\n",
    "delay_five = sql_result[sql_result['delay'] == 5].size\n",
    "delay_six = sql_result[sql_result['delay'] == 6].size\n",
    "delay_seven = sql_result[sql_result['delay'] == 7].size\n",
    "delay_eight = sql_result[sql_result['delay'] == 8].size\n",
    "delay_nine = sql_result[sql_result['delay'] == 9].size\n",
    "delay_ten = sql_result[sql_result['delay'] == 10].size\n",
    "\n",
    "print(delay_one / sql_result.size * 100)\n",
    "print(delay_two / sql_result.size * 100)\n",
    "print(delay_three / sql_result.size * 100)\n",
    "print(delay_four / sql_result.size * 100)\n",
    "print(delay_five / sql_result.size * 100)\n",
    "print(delay_six / sql_result.size * 100)\n",
    "print(delay_seven / sql_result.size * 100)\n",
    "print(delay_eight / sql_result.size * 100)\n",
    "print(delay_nine / sql_result.size * 100)\n",
    "print(delay_ten / sql_result.size * 100)\n",
    "\n",
    "height = np.array([delay_one, delay_two, delay_three, delay_four, delay_five, \n",
    "                   delay_six, delay_seven, delay_eight, delay_nine, delay_ten])\n",
    "pyPlot.bar(left, height)"
   ]
  },
  {
   "cell_type": "code",
   "execution_count": null,
   "metadata": {},
   "outputs": [],
   "source": []
  }
 ],
 "metadata": {
  "kernelspec": {
   "display_name": "Python 2",
   "language": "python",
   "name": "python2"
  },
  "language_info": {
   "codemirror_mode": {
    "name": "ipython",
    "version": 2
   },
   "file_extension": ".py",
   "mimetype": "text/x-python",
   "name": "python",
   "nbconvert_exporter": "python",
   "pygments_lexer": "ipython2",
   "version": "2.7.6"
  }
 },
 "nbformat": 4,
 "nbformat_minor": 0
}
