{
 "cells": [
  {
   "cell_type": "code",
   "execution_count": 8,
   "metadata": {
    "collapsed": true
   },
   "outputs": [],
   "source": [
    "%matplotlib inline\n"
   ]
  },
  {
   "cell_type": "code",
   "execution_count": 2,
   "metadata": {},
   "outputs": [
    {
     "name": "stderr",
     "output_type": "stream",
     "text": [
      "/usr/local/Cellar/python/3.6.4_4/Frameworks/Python.framework/Versions/3.6/lib/python3.6/importlib/_bootstrap.py:219: RuntimeWarning: numpy.dtype size changed, may indicate binary incompatibility. Expected 96, got 88\n  return f(*args, **kwds)\n"
     ]
    },
    {
     "name": "stderr",
     "output_type": "stream",
     "text": [
      "/Users/ca/PycharmProjects/JupyterNoteBookExample/venv/lib/python3.6/site-packages/sklearn/ensemble/weight_boosting.py:29: DeprecationWarning: numpy.core.umath_tests is an internal NumPy module and should not be imported. It will be removed in a future NumPy release.\n  from numpy.core.umath_tests import inner1d\n/Users/ca/PycharmProjects/JupyterNoteBookExample/venv/lib/python3.6/site-packages/psycopg2/__init__.py:144: UserWarning: The psycopg2 wheel package will be renamed from release 2.8; in order to keep installing from binary please use \"pip install psycopg2-binary\" instead. For details see: <http://initd.org/psycopg/docs/install.html#binary-install-from-pypi>.\n  \"\"\")\n"
     ]
    }
   ],
   "source": [
    "import pandas as pd\n",
    "import matplotlib.pyplot as pyPlot\n",
    "\n",
    "from sklearn.model_selection import train_test_split\n",
    "from sklearn.metrics import confusion_matrix\n",
    "from sklearn.ensemble import RandomForestClassifier\n",
    "from sklearn.metrics import f1_score\n",
    "from sklearn import metrics\n",
    "import pandas.io.sql as psql\n",
    "import psycopg2 as pg\n"
   ]
  },
  {
   "cell_type": "code",
   "execution_count": 11,
   "metadata": {},
   "outputs": [],
   "source": [
    "with pg.connect(database='chi-navi-mesh',\n",
    "                host='localhost',\n",
    "                user='postgres',\n",
    "                port=5432) as conn:\n",
    "    all_season_sql = \"with delay_info as( \" \\\n",
    "                     \"with route_bus_stop_list as( \" \\\n",
    "                     \"select \" \\\n",
    "                     \"t.task_id,r.route_id,b.bus_stop_id,rbs.ordinal \" \\\n",
    "                     \"from \" \\\n",
    "                     \"bus_stop b,route r,route_bus_stop rbs,task t \" \\\n",
    "                     \"where \" \\\n",
    "                     \"b.bus_stop_id = rbs.bus_stop_id \" \\\n",
    "                     \"and r.route_id = rbs.route_id \" \\\n",
    "                     \"and t.route_id = r.route_id \" \\\n",
    "                     \"order by r.route_id,rbs.ordinal \" \\\n",
    "                     \"), \" \\\n",
    "                     \"delay_list as( \" \\\n",
    "                     \"with stddev as( \" \\\n",
    "                     \"select \" \\\n",
    "                     \"stddev_samp(extract(epoch from (collide_at - departure_time))) as stddev \" \\\n",
    "                     \"from \" \\\n",
    "                     \"task_delay \" \\\n",
    "                     \"where \" \\\n",
    "                     \"(collide_at - departure_time) > '00:00:00' \" \\\n",
    "                     \"), \" \\\n",
    "                     \"delay_avg as( \" \\\n",
    "                     \"select \" \\\n",
    "                     \"avg((extract(epoch from (collide_at - departure_time)))) as delay_avg \" \\\n",
    "                     \"from \" \\\n",
    "                     \"task_delay \" \\\n",
    "                     \"where \" \\\n",
    "                     \"(collide_at - departure_time) > '00:00:00' \" \\\n",
    "                     \") \" \\\n",
    "                     \"select \" \\\n",
    "                     \"td.task_id,td.departure_time,td.bus_stop_id,td.submit_in,td.collide_at \" \\\n",
    "                     \",extract(epoch from (td.collide_at - td2.departure_time)) as delay \" \\\n",
    "                     \"from \" \\\n",
    "                     \"task_delay td,delay_avg da,stddev std,task_detail td2 \" \\\n",
    "                     \"where \" \\\n",
    "                     \"(extract(epoch from (td.collide_at - td2.departure_time)) between \" \\\n",
    "                     \"da.delay_avg - std.stddev * 3 and da.delay_avg + std.stddev * 3) \" \\\n",
    "                     \"and extract(epoch from (td.collide_at - td2.departure_time)) > 0 \" \\\n",
    "                     \"and td.task_id = td2.task_id \" \\\n",
    "                     \"and td.bus_stop_id = td2.bus_stop_id \" \\\n",
    "                     \"and td.departure_time = td2.departure_time \" \\\n",
    "                     \") \" \\\n",
    "                     \"select \" \\\n",
    "                     \"distinct r.route_id,r.bus_stop_id,r.ordinal,d.collide_at, \" \\\n",
    "                     \"d.task_id,d.delay,d.submit_in,d.departure_time,date_part('HOUR' , d.departure_time) as time \" \\\n",
    "                     \"from \" \\\n",
    "                     \"delay_list d, route_bus_stop_list r \" \\\n",
    "                     \"where \" \\\n",
    "                     \"d.bus_stop_id = r.bus_stop_id \" \\\n",
    "                     \"and r.task_id = d.task_id \" \\\n",
    "                     \"), \" \\\n",
    "                     \"access_info as( \" \\\n",
    "                     \"select \" \\\n",
    "                     \"count(distinct session_id) as access_num,browsing_at::date as date,\" \\\n",
    "                     \"date_part('HOUR' , browsing_at) as time, \" \\\n",
    "                     \"case when \" \\\n",
    "                     \"extract(dow from browsing_at::date) = 0 or extract(dow from browsing_at::date) = 6 then 0 \" \\\n",
    "                     \"else 1 \" \\\n",
    "                     \"end as youbi \" \\\n",
    "                     \"from \" \\\n",
    "                     \"user_browsing_log ubl \" \\\n",
    "                     \"group by date,time \" \\\n",
    "                     \") \" \\\n",
    "                     \"select \" \\\n",
    "                     \"delay, \" \\\n",
    "                     \"ai.time, \" \\\n",
    "                     \"ai.access_num,ai.youbi, \" \\\n",
    "                     \"case \" \\\n",
    "                     \"when submit_in = '2017-07-23' then 1/* 航空祭 */ \" \\\n",
    "                     \"when (submit_in between '2018-01-26' and '2018-02-18') or \" \\\n",
    "                     \"(submit_in between '2017-01-27' and '2017-02-19') \" \\\n",
    "                     \"then 2/* ひょうとう祭り */ \" \\\n",
    "                     \"when submit_in between '2017-07-06' and '2017-07-09' then 3/* セガサミーカップ */ \" \\\n",
    "                     \"else 0 \" \\\n",
    "                     \"end as event, \" \\\n",
    "                     \"case \" \\\n",
    "                     \"when \" \\\n",
    "                     \"di.route_id in (13,14,23,24,55,56,58,59,60,61,62,63,64,67,68,69,70,71,74\" \\\n",
    "                     \",78,79,80,81,82,91,92,93,94,95,96,97,98,99,106,107,108,109,11) then 1 \" \\\n",
    "                     \"else 0 \" \\\n",
    "                     \"end as destination \" \\\n",
    "                     \"from \" \\\n",
    "                     \"delay_info di,access_info ai \" \\\n",
    "                     \"where \" \\\n",
    "                     \"di.time = ai.time \" \\\n",
    "                     \"and di.submit_in = ai.date\"\n"
   ]
  },
  {
   "cell_type": "code",
   "execution_count": 12,
   "metadata": {
    "collapsed": false
   },
   "outputs": [],
   "source": [
    "csv_input = pd.read_csv(filepath_or_buffer=\"./winter_randomForest.csv\",\n",
    "                        encoding=\"utf_8\", sep=\",\")\n",
    "\n",
    "sql_result = psql.read_sql(all_season_sql, conn)\n",
    "# 目的変数\n",
    "\n",
    "features_df = pd.DataFrame()\n",
    "\n",
    "features_df['delay'] = sql_result['delay']\n",
    "\n",
    "# 説明変数\n",
    "features_df['access_num'] = sql_result['access_num']\n",
    "features_df['time'] = pd.Categorical(sql_result['time'])\n",
    "features_df['youbi'] = pd.Categorical(sql_result['youbi'])\n",
    "features_df['event'] = pd.Categorical(sql_result['event'])\n",
    "features_df['destination'] = pd.Categorical(sql_result['destination'])\n",
    "\n",
    "# features_df['snow_fall'] = csv_input['snow_fall'].fillna(method='ffill')\n",
    "\n",
    "X = features_df.loc[:, 'access_num':]\n",
    "Y = features_df['delay']\n",
    "\n",
    "# 学習データとテストデータの分離\n",
    "X_train, X_test, Y_train, Y_test = train_test_split(X, Y, random_state=0)\n",
    "\n",
    "# ランダムフォレストの作成\n",
    "forest = RandomForestClassifier(min_samples_leaf=3, random_state=0)\n",
    "forest.fit(X_train, Y_train)\n",
    "\n",
    "# 評価\n",
    "print('Train score: {}'.format(forest.score(X_train, Y_train)))\n",
    "print('Test score: {}'.format(forest.score(X_test, Y_test)))\n",
    "print('Confusion matrix:\\n{}'.format(confusion_matrix(Y_test, forest.predict(X_test))))\n",
    "print('f1 score: {:.3f}'.format(f1_score(Y_test, forest.predict(X_test))))\n",
    "\n",
    "# ROC曲線\n",
    "fpr, tpr, _ = metrics.roc_curve(Y_test, forest.predict_proba(X_test)[:, 1])\n",
    "\n",
    "auc = metrics.auc(fpr, tpr)\n",
    "print('AUC Score: {}'.format(auc))"
   ]
  },
  {
   "cell_type": "code",
   "execution_count": 6,
   "metadata": {
    "collapsed": false
   },
   "outputs": [
    {
     "name": "stdout",
     "output_type": "stream",
     "text": [
      "[0.30221841 0.46257913 0.14262656 0.04616647 0.04640942]\n"
     ]
    },
    {
     "data": {
      "image/png": "[encoded data removed]",
      "text/plain": [
       "<Figure size 864x864 with 1 Axes>"
      ]
     },
     "metadata": {},
     "output_type": "display_data"
    }
   ],
   "source": [
    "import matplotlib.font_manager as fm\n",
    "from matplotlib.font_manager import FontProperties\n",
    "\n",
    "font_path = './ipaexg.ttf'\n",
    "font_prop = FontProperties(fname=font_path)\n",
    "\n",
    "label = ['時間帯', 'セッション数', '曜日', 'イベント', '目的地']\n",
    "# label = ['時間帯', 'セッション数', '降雪量']\n",
    "print(forest.feature_importances_)\n",
    "values, names = zip(*sorted(zip(forest.feature_importances_, label)))\n",
    "pyPlot.figure(figsize=(12, 12))\n",
    "pyPlot.barh(range(len(names)), values, align='center')\n",
    "pyPlot.yticks(range(len(names)), names, fontproperties=font_prop)\n",
    "pyPlot.tick_params(labelsize=25, labelcolor='white')\n",
    "pyPlot.show()\n"
   ]
  },
  {
   "cell_type": "code",
   "execution_count": 7,
   "metadata": {},
   "outputs": [
    {
     "data": {
      "image/png": "[encoded data removed]",
      "text/plain": [
       "<Figure size 432x288 with 1 Axes>"
      ]
     },
     "metadata": {},
     "output_type": "display_data"
    }
   ],
   "source": [
    "pyPlot.plot(fpr, tpr, label='ROC curve (area = %.2f)' % auc)\n",
    "pyPlot.legend()\n",
    "pyPlot.title('ROC curve')\n",
    "pyPlot.xlabel('False Positive Rate')\n",
    "pyPlot.ylabel('True Positive Rate')\n",
    "pyPlot.grid(True)\n"
   ]
  }
 ],
 "metadata": {
  "kernelspec": {
   "display_name": "Python 2",
   "language": "python",
   "name": "python2"
  },
  "language_info": {
   "codemirror_mode": {
    "name": "ipython",
    "version": 2
   },
   "file_extension": ".py",
   "mimetype": "text/x-python",
   "name": "python",
   "nbconvert_exporter": "python",
   "pygments_lexer": "ipython2",
   "version": "2.7.6"
  }
 },
 "nbformat": 4,
 "nbformat_minor": 0
}
