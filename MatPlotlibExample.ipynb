{
 "cells": [
  {
   "cell_type": "code",
   "execution_count": 14,
   "metadata": {
    "collapsed": true
   },
   "outputs": [],
   "source": [
    "%matplotlib inline"
   ]
  },
  {
   "cell_type": "code",
   "execution_count": 15,
   "metadata": {},
   "outputs": [],
   "source": [
    "import pandas as pd\n",
    "import matplotlib.pyplot as pyPlot\n",
    "\n",
    "from sklearn.model_selection import train_test_split\n",
    "from sklearn.metrics import confusion_matrix\n",
    "from sklearn.ensemble import RandomForestClassifier\n",
    "from sklearn.metrics import f1_score"
   ]
  },
  {
   "cell_type": "code",
   "execution_count": 16,
   "metadata": {
    "collapsed": false
   },
   "outputs": [],
   "source": [
    "csv_input = pd.read_csv(filepath_or_buffer=\"./winter_randomForest.csv\",\n",
    "                        encoding=\"utf_8\", sep=\",\")\n",
    "features_df = pd.DataFrame()\n",
    "\n",
    "# 目的変数\n",
    "features_df['delay'] = csv_input['delay']\n",
    "\n",
    "# 説明変数\n",
    "features_df['access_num'] = csv_input['access_num']\n",
    "features_df['snow_fall'] = csv_input['snow_fall'].fillna(method='ffill')\n",
    "features_df['time'] = pd.Categorical(csv_input['time'])"
   ]
  },
  {
   "cell_type": "code",
   "execution_count": 17,
   "metadata": {
    "collapsed": false
   },
   "outputs": [
    {
     "name": "stdout",
     "output_type": "stream",
     "text": [
      "Train score: 0.6229893652973618\n"
     ]
    },
    {
     "name": "stdout",
     "output_type": "stream",
     "text": [
      "Test score: 0.6169053884982096\n"
     ]
    },
    {
     "name": "stdout",
     "output_type": "stream",
     "text": [
      "Confusion matrix:\n[[34048 15183]\n [20336 23149]]\n"
     ]
    },
    {
     "name": "stdout",
     "output_type": "stream",
     "text": [
      "f1 score: 0.566\n"
     ]
    }
   ],
   "source": [
    "X = features_df.loc[:, 'access_num':]\n",
    "Y = features_df['delay']\n",
    "\n",
    "# 学習データとテストデータの分離\n",
    "X_train, X_test, Y_train, Y_test = train_test_split(X, Y, random_state=0)\n",
    "\n",
    "# ランダムフォレストの作成\n",
    "forest = RandomForestClassifier(min_samples_leaf=3, random_state=0)\n",
    "forest.fit(X_train, Y_train)\n",
    "\n",
    "# 評価\n",
    "print('Train score: {}'.format(forest.score(X_train, Y_train)))\n",
    "print('Test score: {}'.format(forest.score(X_test, Y_test)))\n",
    "print('Confusion matrix:\\n{}'.format(confusion_matrix(Y_test, forest.predict(X_test))))\n",
    "print('f1 score: {:.3f}'.format(f1_score(Y_test, forest.predict(X_test))))\n"
   ]
  },
  {
   "cell_type": "code",
   "execution_count": 18,
   "metadata": {},
   "outputs": [
    {
     "data": {
      "text/plain": [
       "([<matplotlib.axis.YTick at 0x110641cc0>,\n  <matplotlib.axis.YTick at 0x1106415f8>,\n  <matplotlib.axis.YTick at 0x110645a20>],\n <a list of 3 Text yticklabel objects>)"
      ]
     },
     "execution_count": 18,
     "metadata": {},
     "output_type": "execute_result"
    },
    {
     "data": {
      "image/png": "[encoded data removed]",
      "text/plain": [
       "<Figure size 864x864 with 1 Axes>"
      ]
     },
     "metadata": {},
     "output_type": "display_data"
    }
   ],
   "source": [
    "values, names = zip(*sorted(zip(forest.feature_importances_, X.columns)))\n",
    "\n",
    "pyPlot.figure(figsize=(12,12))\n",
    "pyPlot.barh(range(len(names)), values, align='center')\n",
    "pyPlot.yticks(range(len(names)), names)"
   ]
  },
  {
   "cell_type": "code",
   "execution_count": null,
   "metadata": {},
   "outputs": [],
   "source": []
  }
 ],
 "metadata": {
  "kernelspec": {
   "display_name": "Python 2",
   "language": "python",
   "name": "python2"
  },
  "language_info": {
   "codemirror_mode": {
    "name": "ipython",
    "version": 2
   },
   "file_extension": ".py",
   "mimetype": "text/x-python",
   "name": "python",
   "nbconvert_exporter": "python",
   "pygments_lexer": "ipython2",
   "version": "2.7.6"
  }
 },
 "nbformat": 4,
 "nbformat_minor": 0
}
